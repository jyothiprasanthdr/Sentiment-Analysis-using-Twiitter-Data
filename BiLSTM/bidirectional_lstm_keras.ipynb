{
  "nbformat": 4,
  "nbformat_minor": 0,
  "metadata": {
    "language_info": {
      "name": "python",
      "mimetype": "text/x-python",
      "file_extension": ".py",
      "nbconvert_exporter": "python",
      "version": "3.6.4",
      "codemirror_mode": {
        "name": "ipython",
        "version": 3
      },
      "pygments_lexer": "ipython3"
    },
    "kernelspec": {
      "name": "python3",
      "language": "python",
      "display_name": "Python 3"
    },
    "colab": {
      "name": "bidirectional-lstm-keras.ipynb",
      "provenance": [],
      "collapsed_sections": []
    }
  },
  "cells": [
    {
      "cell_type": "code",
      "metadata": {
        "_cell_guid": "280ce6a5-7c13-45cb-94b3-cae51047a14d",
        "_uuid": "d5b7d619525fb59e20c12db08260a60656842eeb",
        "id": "Px9hY6_EljRb"
      },
      "source": [
        "# This Python 3 environment comes with many helpful analytics libraries installed\n",
        "# It is defined by the kaggle/python docker image: https://github.com/kaggle/docker-python\n",
        "# For example, here's several helpful packages to load in \n",
        "\n",
        "import numpy as np # linear algebra\n",
        "import pandas as pd # data processing, CSV file I/O (e.g. pd.read_csv)\n",
        "\n"
      ],
      "execution_count": null,
      "outputs": []
    },
    {
      "cell_type": "code",
      "metadata": {
        "id": "WFIzZzaNnpl8",
        "outputId": "36d3cf11-f70c-44b6-afc1-d972e1d745f0",
        "colab": {
          "base_uri": "https://localhost:8080/"
        }
      },
      "source": [
        "from google.colab import drive\n",
        "drive.mount('/content/drive')"
      ],
      "execution_count": null,
      "outputs": [
        {
          "output_type": "stream",
          "text": [
            "Mounted at /content/drive\n"
          ],
          "name": "stdout"
        }
      ]
    },
    {
      "cell_type": "code",
      "metadata": {
        "_cell_guid": "1cebb3ec-1385-44cf-ad88-359ed29bb18d",
        "_uuid": "c10e0358621d55f42c24b57927fef0dc1668ad95",
        "id": "0Gb9lNQBljRi"
      },
      "source": [
        "import sys, os, re, csv, codecs, numpy as np, pandas as pd\n",
        "\n",
        "from keras.preprocessing.text import Tokenizer\n",
        "from keras.preprocessing.sequence import pad_sequences\n",
        "from keras.layers import Dense, Input, LSTM, Embedding, Dropout, Activation\n",
        "from keras.layers import Bidirectional, GlobalMaxPool1D\n",
        "from keras.models import Model\n",
        "from keras import initializers, regularizers, constraints, optimizers, layers"
      ],
      "execution_count": null,
      "outputs": []
    },
    {
      "cell_type": "markdown",
      "metadata": {
        "_cell_guid": "aa233d8b-c976-4f6c-aced-8458bda2db38",
        "_uuid": "d89df2602213749da26b83cd32c88c5b6a81bdf3",
        "id": "W8kVaLo7ljRo"
      },
      "source": [
        "to include glove file in your kernel, simple click 'input files' at the top of the notebook, and search 'glove' in the 'datasets' section."
      ]
    },
    {
      "cell_type": "code",
      "metadata": {
        "_cell_guid": "98a7e24c-2655-455b-a401-057bc9f9420c",
        "_uuid": "07627d15bc2ab69b157c0cc519295ecfced0b0cb",
        "id": "-vzg4t5RljRp"
      },
      "source": [
        "#path = '../input/'\n",
        "comp = 'jigsaw-toxic-comment-classification-challenge/'\n",
        "EMBEDDING_FILE='/content/drive/My Drive/Colab Notebooks/glove.6B.100d.txt'\n",
        "TRAIN_DATA_FILE=f'/content/drive/My Drive/Colab Notebooks/User history.csv'\n",
        "#TEST_DATA_FILE=f'Test2.csv'"
      ],
      "execution_count": null,
      "outputs": []
    },
    {
      "cell_type": "code",
      "metadata": {
        "_cell_guid": "1e393890-2895-4bad-be6f-63cba10d670d",
        "_uuid": "3cc33b527dfb7b321081d3974698aac2e406c844",
        "id": "lHoeI-kiljRv"
      },
      "source": [
        "#set parameters\n",
        "embed_size = 100 # how big is each word vector\n",
        "max_features = 11700 # how many unique words to use (i.e num rows in embedding vector)\n",
        "maxlen = 1000 # max number of words in a comment to use"
      ],
      "execution_count": null,
      "outputs": []
    },
    {
      "cell_type": "code",
      "metadata": {
        "_cell_guid": "9609a325-b0cf-47ed-a42b-b3190ec4ea3a",
        "_uuid": "8f503d1324e752834034052cd0e0f88c9f1c6b2e",
        "id": "7lTil6muljR8"
      },
      "source": [
        "#read datasets\n",
        "train = pd.read_csv(TRAIN_DATA_FILE, encoding ='unicode-escape')\n",
        "#test = pd.read_csv(TEST_DATA_FILE, encoding='unicode-escape')"
      ],
      "execution_count": null,
      "outputs": []
    },
    {
      "cell_type": "markdown",
      "metadata": {
        "_cell_guid": "a0b38160-c998-4181-9470-93f375a90fd6",
        "_uuid": "5226bd171fd6c01f872ae4d3fd4c8b7216f79deb",
        "id": "OMM4ym9oljSC"
      },
      "source": [
        "pre-processing "
      ]
    },
    {
      "cell_type": "code",
      "metadata": {
        "_cell_guid": "db423bbb-2d8e-4107-af27-ec39f14ec12d",
        "_uuid": "33b9825c18909629ed7a4c13e9ac28bb25296314",
        "id": "mf9Fl1KBljSE"
      },
      "source": [
        "list_sentences_train = train[\"Userhistory\"].fillna(\"_na_\").values\n",
        "list_classes = [\"label\"]\n",
        "y = train[list_classes].values\n",
        "#list_sentences_test = test[\"Tweet\"].fillna(\"_na_\").values"
      ],
      "execution_count": null,
      "outputs": []
    },
    {
      "cell_type": "code",
      "metadata": {
        "_cell_guid": "41c281b0-6b1b-4359-acc2-49a6d75c8db5",
        "_uuid": "3703ae357b002647209fd50831b92e3960fa0275",
        "id": "uozjxY46ljSO"
      },
      "source": [
        "tokenizer = Tokenizer(num_words=max_features)\n",
        "tokenizer.fit_on_texts(list(list_sentences_train))\n",
        "list_tokenized_train = tokenizer.texts_to_sequences(list_sentences_train)\n",
        "#list_tokenized_test = tokenizer.texts_to_sequences(list_sentences_test)\n",
        "X_t = pad_sequences(list_tokenized_train, maxlen=maxlen)\n",
        "#X_te = pad_sequences(list_tokenized_test, maxlen=maxlen)"
      ],
      "execution_count": null,
      "outputs": []
    },
    {
      "cell_type": "markdown",
      "metadata": {
        "_cell_guid": "0493d4b8-528e-49ee-a399-53e72152a566",
        "_uuid": "f4262927f40e2c0cf1a6b9f7a606af4c3e190189",
        "id": "gDRMF4RrljSU"
      },
      "source": [
        "Read the glove word vectors (space delimited strings) into a dictionary from word->vector."
      ]
    },
    {
      "cell_type": "code",
      "metadata": {
        "_cell_guid": "4036a3aa-19db-4cb6-af48-0cc39795269f",
        "_uuid": "f3279a0acdeebda21c8c925bde1e92feb45fb5f9",
        "id": "l6Qia4mCljSW"
      },
      "source": [
        "def get_coefs(word,*arr): return word, np.asarray(arr, dtype='float32')\n",
        "embeddings_index = dict(get_coefs(*o.strip().split()) for o in open(EMBEDDING_FILE))"
      ],
      "execution_count": null,
      "outputs": []
    },
    {
      "cell_type": "markdown",
      "metadata": {
        "_cell_guid": "c6a7d6a1-16db-4820-ad5c-6cf022db7afe",
        "_uuid": "5b0815834451df48c71b847aa40ea19da33f05a2",
        "id": "mGI9sB9nljSb"
      },
      "source": [
        "Use these vectors to create our embedding matrix, with random initialization for words that aren't in GloVe. We'll use the same mean and stdev of embeddings the GloVe has when generating the random init."
      ]
    },
    {
      "cell_type": "code",
      "metadata": {
        "_cell_guid": "2fb3d669-330b-4500-a3a0-c85416c6055d",
        "_uuid": "68591d5cd29251aebbad40e518a7c56052437997",
        "id": "fjKco8lBljSb",
        "outputId": "9e85200e-aca5-4e46-e06c-99e63b4c7bd1",
        "colab": {
          "base_uri": "https://localhost:8080/"
        }
      },
      "source": [
        "all_embs = np.stack(embeddings_index.values())\n",
        "emb_mean,emb_std = all_embs.mean(), all_embs.std()\n",
        "emb_mean,emb_std"
      ],
      "execution_count": null,
      "outputs": [
        {
          "output_type": "stream",
          "text": [
            "/usr/local/lib/python3.6/dist-packages/IPython/core/interactiveshell.py:2822: FutureWarning: arrays to stack must be passed as a \"sequence\" type such as list or tuple. Support for non-sequence iterables such as generators is deprecated as of NumPy 1.16 and will raise an error in the future.\n",
            "  if self.run_code(code, result):\n"
          ],
          "name": "stderr"
        },
        {
          "output_type": "execute_result",
          "data": {
            "text/plain": [
              "(0.004451992, 0.4081574)"
            ]
          },
          "metadata": {
            "tags": []
          },
          "execution_count": 10
        }
      ]
    },
    {
      "cell_type": "code",
      "metadata": {
        "_cell_guid": "5038e1fe-6e4e-4c83-957b-e0811ee2a2d4",
        "_uuid": "b932fc6c799ec4b4398f828235aee8f37cb0f675",
        "id": "is8KMvNiljSg"
      },
      "source": [
        "word_index = tokenizer.word_index\n",
        "nb_words = min(max_features, len(word_index))\n",
        "embedding_matrix = np.random.normal(emb_mean, emb_std, (nb_words, embed_size))\n",
        "for word, i in word_index.items():\n",
        "    if i >= max_features: continue\n",
        "    embedding_vector = embeddings_index.get(word)\n",
        "    if embedding_vector is not None: embedding_matrix[i] = embedding_vector"
      ],
      "execution_count": null,
      "outputs": []
    },
    {
      "cell_type": "markdown",
      "metadata": {
        "_cell_guid": "b9237573-4bd0-4e77-b992-7a85d3265581",
        "_uuid": "330a47b8451ea56f07730ab1a3686cb43ef5eb93",
        "id": "OHVNOD7PljSo"
      },
      "source": [
        "bidirectional LSTM"
      ]
    },
    {
      "cell_type": "code",
      "metadata": {
        "_cell_guid": "a1be1eec-131b-48ad-bde1-523ad91164c1",
        "_uuid": "676bdae01aeb1d9fe96905d357bbf56697e26c2b",
        "id": "PNz8TnqLljSq"
      },
      "source": [
        "inp = Input(shape=(maxlen,))\n",
        "x = Embedding(max_features, embed_size, weights=[embedding_matrix])(inp)\n",
        "x = Bidirectional(LSTM(100, return_sequences=True, dropout=0.25, recurrent_dropout=0.1))(x)\n",
        "x = GlobalMaxPool1D()(x)\n",
        "x = Dense(100, activation=\"relu\")(x)\n",
        "x = Dropout(0.25)(x)\n",
        "x = Dense(1, activation=\"sigmoid\")(x)\n",
        "model = Model(inputs=inp, outputs=x)\n",
        "#adam =Adam(0.001)\n",
        "model.compile(loss='binary_crossentropy', optimizer='adam', metrics=['accuracy'])"
      ],
      "execution_count": null,
      "outputs": []
    },
    {
      "cell_type": "code",
      "metadata": {
        "_cell_guid": "05315534-5d92-4be9-b0bc-966929f77f43",
        "_uuid": "d4f92bbd6738d507b5851bdd4e9949bb72ea962f",
        "id": "APb32001ljSy",
        "outputId": "fd8329e1-37e1-4964-9b8c-40f0f75c7e22",
        "colab": {
          "base_uri": "https://localhost:8080/"
        }
      },
      "source": [
        "model.fit(X_t, y, batch_size=128, epochs=50 ,validation_split=0.2)"
      ],
      "execution_count": null,
      "outputs": [
        {
          "output_type": "stream",
          "text": [
            "Epoch 1/50\n",
            "8/8 [==============================] - 59s 7s/step - loss: 0.5660 - accuracy: 0.7606 - val_loss: 0.7376 - val_accuracy: 0.5638\n",
            "Epoch 2/50\n",
            "8/8 [==============================] - 59s 7s/step - loss: 0.5445 - accuracy: 0.7647 - val_loss: 0.6961 - val_accuracy: 0.5638\n",
            "Epoch 3/50\n",
            "8/8 [==============================] - 58s 7s/step - loss: 0.5240 - accuracy: 0.7647 - val_loss: 0.7254 - val_accuracy: 0.5638\n",
            "Epoch 4/50\n",
            "8/8 [==============================] - 58s 7s/step - loss: 0.5102 - accuracy: 0.7647 - val_loss: 0.7108 - val_accuracy: 0.5638\n",
            "Epoch 5/50\n",
            "8/8 [==============================] - 58s 7s/step - loss: 0.4985 - accuracy: 0.7647 - val_loss: 0.6696 - val_accuracy: 0.5802\n",
            "Epoch 6/50\n",
            "8/8 [==============================] - 58s 7s/step - loss: 0.4695 - accuracy: 0.7792 - val_loss: 0.6691 - val_accuracy: 0.6132\n",
            "Epoch 7/50\n",
            "8/8 [==============================] - 61s 8s/step - loss: 0.4452 - accuracy: 0.8019 - val_loss: 0.5918 - val_accuracy: 0.6872\n",
            "Epoch 8/50\n",
            "8/8 [==============================] - 58s 7s/step - loss: 0.4399 - accuracy: 0.7833 - val_loss: 0.5735 - val_accuracy: 0.7119\n",
            "Epoch 9/50\n",
            "8/8 [==============================] - 58s 7s/step - loss: 0.4120 - accuracy: 0.8225 - val_loss: 0.5987 - val_accuracy: 0.6996\n",
            "Epoch 10/50\n",
            "8/8 [==============================] - 58s 7s/step - loss: 0.3944 - accuracy: 0.8390 - val_loss: 0.7885 - val_accuracy: 0.6255\n",
            "Epoch 11/50\n",
            "8/8 [==============================] - 58s 7s/step - loss: 0.3267 - accuracy: 0.8669 - val_loss: 0.7931 - val_accuracy: 0.6543\n",
            "Epoch 12/50\n",
            "8/8 [==============================] - 58s 7s/step - loss: 0.2849 - accuracy: 0.8834 - val_loss: 0.9431 - val_accuracy: 0.6626\n",
            "Epoch 13/50\n",
            "8/8 [==============================] - 58s 7s/step - loss: 0.2474 - accuracy: 0.9030 - val_loss: 1.0054 - val_accuracy: 0.6667\n",
            "Epoch 14/50\n",
            "8/8 [==============================] - 58s 7s/step - loss: 0.2142 - accuracy: 0.9123 - val_loss: 1.2135 - val_accuracy: 0.6502\n",
            "Epoch 15/50\n",
            "7/8 [=========================>....] - ETA: 7s - loss: 0.1824 - accuracy: 0.9241 "
          ],
          "name": "stdout"
        }
      ]
    },
    {
      "cell_type": "code",
      "metadata": {
        "id": "bWRCXw8FQO13"
      },
      "source": [
        ""
      ],
      "execution_count": null,
      "outputs": []
    },
    {
      "cell_type": "code",
      "metadata": {
        "_cell_guid": "167f7c67-2cd1-48a2-a141-c840793ce0f1",
        "_uuid": "4f054bcc2e6821154deaf7343fc097b69e10b743",
        "id": "AFckqaV5ljS1",
        "outputId": "7b5e4950-980d-4ff2-b48e-489090549994",
        "colab": {
          "base_uri": "https://localhost:8080/",
          "height": 153
        }
      },
      "source": [
        "pred = model.predict(X_t, batch_size=100, verbose=1)\n",
        "print(pred)"
      ],
      "execution_count": null,
      "outputs": [
        {
          "output_type": "stream",
          "text": [
            "13/13 [==============================] - 12s 908ms/step\n",
            "[[9.9861836e-01]\n",
            " [7.2689608e-07]\n",
            " [9.9886405e-01]\n",
            " ...\n",
            " [1.4442447e-05]\n",
            " [1.9013229e-05]\n",
            " [9.9537468e-01]]\n"
          ],
          "name": "stdout"
        }
      ]
    },
    {
      "cell_type": "code",
      "metadata": {
        "id": "1AkN3m3sAir0",
        "outputId": "b46d329f-57a3-4651-8912-710572a8721b",
        "colab": {
          "base_uri": "https://localhost:8080/",
          "height": 51
        }
      },
      "source": [
        "print(min(pred))\n",
        "print(max(pred))"
      ],
      "execution_count": null,
      "outputs": [
        {
          "output_type": "stream",
          "text": [
            "[1.6549859e-10]\n",
            "[0.99975014]\n"
          ],
          "name": "stdout"
        }
      ]
    },
    {
      "cell_type": "code",
      "metadata": {
        "id": "P_ySA3w4j3uL",
        "outputId": "7143b1ed-9c4f-43f3-b9e4-4ca20bf339b6",
        "colab": {
          "base_uri": "https://localhost:8080/",
          "height": 136
        }
      },
      "source": [
        "np.arrays=pred\n",
        "pred[pred >0.40]=int(1)\n",
        "pred[pred < 0.40]=int(0)\n",
        "\n",
        "pred.astype(int)\n"
      ],
      "execution_count": null,
      "outputs": [
        {
          "output_type": "execute_result",
          "data": {
            "text/plain": [
              "array([[1],\n",
              "       [0],\n",
              "       [1],\n",
              "       ...,\n",
              "       [0],\n",
              "       [0],\n",
              "       [1]])"
            ]
          },
          "metadata": {
            "tags": []
          },
          "execution_count": 51
        }
      ]
    },
    {
      "cell_type": "code",
      "metadata": {
        "id": "05IWl7lWmcug",
        "outputId": "c735dd87-62aa-4954-847a-db3fc42cfaaf",
        "colab": {
          "base_uri": "https://localhost:8080/",
          "height": 255
        }
      },
      "source": [
        "from sklearn.metrics import classification_report \n",
        "from sklearn.metrics import confusion_matrix \n",
        "from sklearn.metrics import accuracy_score\n",
        "results = confusion_matrix(y,pred.astype(int)) \n",
        "  \n",
        "print ('Confusion Matrix :')\n",
        "print(results) \n",
        "print ('Accuracy Score :',accuracy_score(y, pred.astype(int) ))\n",
        "print ('Report : ')\n",
        "print (classification_report(y,pred.astype(int) ))\n",
        "\n",
        "\n",
        "\n"
      ],
      "execution_count": null,
      "outputs": [
        {
          "output_type": "stream",
          "text": [
            "Confusion Matrix :\n",
            "[[873   5]\n",
            " [ 75 259]]\n",
            "Accuracy Score : 0.933993399339934\n",
            "Report : \n",
            "              precision    recall  f1-score   support\n",
            "\n",
            "           0       0.92      0.99      0.96       878\n",
            "           1       0.98      0.78      0.87       334\n",
            "\n",
            "    accuracy                           0.93      1212\n",
            "   macro avg       0.95      0.88      0.91      1212\n",
            "weighted avg       0.94      0.93      0.93      1212\n",
            "\n"
          ],
          "name": "stdout"
        }
      ]
    },
    {
      "cell_type": "code",
      "metadata": {
        "_cell_guid": "db81aaee-91e5-4f89-a7e1-2bc6fa74ce16",
        "_uuid": "cc03ceff4a5a7c10a7c73c4fabe47658afae1cf0",
        "id": "TEzPReTIljTC"
      },
      "source": [
        ""
      ],
      "execution_count": null,
      "outputs": []
    }
  ]
}